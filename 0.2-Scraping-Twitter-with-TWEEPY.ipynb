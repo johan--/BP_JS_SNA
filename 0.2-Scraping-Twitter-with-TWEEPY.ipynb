{
 "cells": [
  {
   "cell_type": "markdown",
   "metadata": {},
   "source": [
    "# Scraping twitter data using tweepy\n",
    "\n",
    "create a dev app on twitter tog et access keys https://apps.twitter.com/"
   ]
  },
  {
   "cell_type": "code",
   "execution_count": null,
   "metadata": {
    "collapsed": true
   },
   "outputs": [],
   "source": [
    "# install tweepy library\n",
    "$ pip install tweepy"
   ]
  },
  {
   "cell_type": "code",
   "execution_count": 1,
   "metadata": {
    "collapsed": true
   },
   "outputs": [],
   "source": [
    "# import libs\n",
    "import tweepy\n",
    "import time\n",
    "import os\n",
    "import sys\n",
    "import json\n",
    "import argparse"
   ]
  },
  {
   "cell_type": "code",
   "execution_count": 2,
   "metadata": {
    "collapsed": true
   },
   "outputs": [],
   "source": [
    "# define variables\n",
    "FOLLOWING_DIR = 'following'\n",
    "MAX_FRIENDS = 200\n",
    "FRIENDS_OF_FRIENDS_LIMIT = 200"
   ]
  },
  {
   "cell_type": "code",
   "execution_count": 3,
   "metadata": {
    "collapsed": false
   },
   "outputs": [],
   "source": [
    "# creates dir if it doesnt exists\n",
    "if not os.path.exists(FOLLOWING_DIR):\n",
    "    os.mkdir(FOLLOWING_DIR)"
   ]
  },
  {
   "cell_type": "code",
   "execution_count": 4,
   "metadata": {
    "collapsed": true
   },
   "outputs": [],
   "source": [
    "# define lambda function for ecoding to ascii text\n",
    "enc = lambda x: x.encode('ascii', errors='ignore')"
   ]
  },
  {
   "cell_type": "markdown",
   "metadata": {},
   "source": [
    "## Sets up twitter authentication"
   ]
  },
  {
   "cell_type": "code",
   "execution_count": 5,
   "metadata": {
    "collapsed": false
   },
   "outputs": [],
   "source": [
    "# define access keys\n",
    "consumer_key = \"\"\n",
    "consumer_secret = \"\"\n",
    "access_token = \"\"\n",
    "access_token_secret = \"\""
   ]
  },
  {
   "cell_type": "code",
   "execution_count": 6,
   "metadata": {
    "collapsed": false
   },
   "outputs": [],
   "source": [
    "# first we must create an instance of the OAuth\n",
    "auth = tweepy.OAuthHandler(consumer_key, consumer_secret)"
   ]
  },
  {
   "cell_type": "code",
   "execution_count": 7,
   "metadata": {
    "collapsed": false
   },
   "outputs": [],
   "source": [
    "# set access tokens\n",
    "auth.set_access_token(access_token, access_token_secret)"
   ]
  },
  {
   "cell_type": "code",
   "execution_count": 8,
   "metadata": {
    "collapsed": false
   },
   "outputs": [],
   "source": [
    "# creates an instance for executing api's for the authenticated user\n",
    "api = tweepy.API(auth)"
   ]
  },
  {
   "cell_type": "markdown",
   "metadata": {
    "collapsed": true
   },
   "source": [
    "## script to collect the data\n",
    "http://mark-kay.net/2014/08/15/network-graph-of-twitter-followers/"
   ]
  },
  {
   "cell_type": "code",
   "execution_count": 12,
   "metadata": {
    "collapsed": false
   },
   "outputs": [],
   "source": [
    "def get_follower_ids(centre, max_depth=1, current_depth=0, taboo_list=[]):\n",
    " \n",
    "    # print 'current depth: %d, max depth: %d' % (current_depth, max_depth)\n",
    "    # print 'taboo list: ', ','.join([ str(i) for i in taboo_list ])\n",
    " \n",
    "    if current_depth == max_depth:\n",
    "        print 'out of depth'\n",
    "        return taboo_list\n",
    " \n",
    "    if centre in taboo_list:\n",
    "        # we've been here before\n",
    "        print 'Already been here.'\n",
    "        return taboo_list\n",
    "    else:\n",
    "        taboo_list.append(centre)\n",
    " \n",
    "    try:\n",
    "        userfname = os.path.join('twitter-users', str(centre) + '.json')\n",
    "        if not os.path.exists(userfname):\n",
    "            print 'Retrieving user details for twitter id %s' % str(centre)\n",
    "            while True:\n",
    "                try:\n",
    "                    user = api.get_user(centre)\n",
    " \n",
    "                    d = {'name': user.name,\n",
    "                         'screen_name': user.screen_name,\n",
    "                         'id': user.id,\n",
    "                         'friends_count': user.friends_count,\n",
    "                         'followers_count': user.followers_count,\n",
    "                         'followers_ids': user.followers_ids()}\n",
    " \n",
    "                    with open(userfname, 'w') as outf:\n",
    "                        outf.write(json.dumps(d, indent=1))\n",
    " \n",
    "                    user = d\n",
    "                    break\n",
    "                except tweepy.TweepError, error:\n",
    "                    print type(error)\n",
    " \n",
    "                    if str(error) == 'Not authorized.':\n",
    "                        print 'Can''t access user data - not authorized.'\n",
    "                        return taboo_list\n",
    " \n",
    "                    if str(error) == 'User has been suspended.':\n",
    "                        print 'User suspended.'\n",
    "                        return taboo_list\n",
    " \n",
    "                    errorObj = error[0][0]\n",
    " \n",
    "                    print errorObj\n",
    " \n",
    "                    if errorObj['message'] == 'Rate limit exceeded':\n",
    "                        print 'Rate limited. Sleeping for 15 minutes.'\n",
    "                        time.sleep(15 * 60 + 15)\n",
    "                        continue\n",
    " \n",
    "                    return taboo_list\n",
    "        else:\n",
    "            user = json.loads(file(userfname).read())\n",
    " \n",
    "        screen_name = enc(user['screen_name'])\n",
    "        fname = os.path.join(FOLLOWING_DIR, screen_name + '.csv')\n",
    "        friendids = []\n",
    " \n",
    "        # only retrieve friends of TED... screen names\n",
    "        if screen_name.startswith('TED'):\n",
    "            if not os.path.exists(fname):\n",
    "                print 'No cached data for screen name \"%s\"' % screen_name\n",
    "                with open(fname, 'w') as outf:\n",
    "                    params = (enc(user['name']), screen_name)\n",
    "                    print 'Retrieving friends for user \"%s\" (%s)' % params\n",
    " \n",
    "                    # page over friends\n",
    "                    c = tweepy.Cursor(api.friends, id=user['id']).items()\n",
    " \n",
    "                    friend_count = 0\n",
    "                    while True:\n",
    "                        try:\n",
    "                            friend = c.next()\n",
    "                            friendids.append(friend.id)\n",
    "                            params = (friend.id, enc(friend.screen_name), enc(friend.name))\n",
    "                            outf.write('%s\\t%s\\t%s\\n' % params)\n",
    "                            friend_count += 1\n",
    "                            if friend_count >= MAX_FRIENDS:\n",
    "                                print 'Reached max no. of friends for \"%s\".' % friend.screen_name\n",
    "                                break\n",
    "                        except tweepy.TweepError:\n",
    "                            # hit rate limit, sleep for 15 minutes\n",
    "                            print 'Rate limited. Sleeping for 15 minutes.'\n",
    "                            time.sleep(15 * 60 + 15)\n",
    "                            continue\n",
    "                        except StopIteration:\n",
    "                            break\n",
    "            else:\n",
    "                friendids = [int(line.strip().split('\\t')[0]) for line in file(fname)]\n",
    " \n",
    "            print 'Found %d friends for %s' % (len(friendids), screen_name)\n",
    " \n",
    "            # get friends of friends\n",
    "            cd = current_depth\n",
    "            if cd+1 < max_depth:\n",
    "                for fid in friendids[:FRIENDS_OF_FRIENDS_LIMIT]:\n",
    "                    taboo_list = get_follower_ids(fid, max_depth=max_depth,\n",
    "                        current_depth=cd+1, taboo_list=taboo_list)\n",
    " \n",
    "            if cd+1 < max_depth and len(friendids) > FRIENDS_OF_FRIENDS_LIMIT:\n",
    "                print 'Not all friends retrieved for %s.' % screen_name\n",
    " \n",
    "    except Exception, error:\n",
    "        print 'Error retrieving followers for user id: ', centre\n",
    "        print error\n",
    " \n",
    "        if os.path.exists(fname):\n",
    "            os.rm(fname)\n",
    "            print 'Removed file \"%s\".' % fname\n",
    " \n",
    "        sys.exit(1)\n",
    " \n",
    "    return taboo_list\n",
    "\n"
   ]
  },
  {
   "cell_type": "code",
   "execution_count": null,
   "metadata": {
    "collapsed": true
   },
   "outputs": [],
   "source": []
  }
 ],
 "metadata": {
  "kernelspec": {
   "display_name": "Python 2",
   "language": "python",
   "name": "python2"
  },
  "language_info": {
   "codemirror_mode": {
    "name": "ipython",
    "version": 2
   },
   "file_extension": ".py",
   "mimetype": "text/x-python",
   "name": "python",
   "nbconvert_exporter": "python",
   "pygments_lexer": "ipython2",
   "version": "2.7.10"
  }
 },
 "nbformat": 4,
 "nbformat_minor": 0
}
